{
  "nbformat": 4,
  "nbformat_minor": 0,
  "metadata": {
    "colab": {
      "name": "Vine Review Analysis.ipynb",
      "provenance": [],
      "collapsed_sections": [],
      "authorship_tag": "ABX9TyNa7KiwtmBRkUDnmwgtfxBP",
      "include_colab_link": true
    },
    "kernelspec": {
      "name": "python3",
      "display_name": "Python 3"
    },
    "language_info": {
      "name": "python"
    }
  },
  "cells": [
    {
      "cell_type": "markdown",
      "metadata": {
        "id": "view-in-github",
        "colab_type": "text"
      },
      "source": [
        "<a href=\"https://colab.research.google.com/github/sljssims/Amazon_Vine_Analysis/blob/main/Vine_Review_Analysis.ipynb\" target=\"_parent\"><img src=\"https://colab.research.google.com/assets/colab-badge.svg\" alt=\"Open In Colab\"/></a>"
      ]
    },
    {
      "cell_type": "code",
      "metadata": {
        "colab": {
          "base_uri": "https://localhost:8080/"
        },
        "id": "VlU0g7rLoMR_",
        "outputId": "17ee35d0-4f7d-4077-ba1f-6caa563b6cdf"
      },
      "source": [
        "# Import your dependencies\n",
        "import os\n",
        "spark_version = 'spark-3.2.0'\n",
        "os.environ['SPARK_VERSION']=spark_version\n",
        "\n",
        "# Install Spark and Java\n",
        "!apt-get update\n",
        "!apt-get install openjdk-11-jdk-headless -qq > /dev/null\n",
        "!wget -q http://www.apache.org/dist/spark/$SPARK_VERSION/$SPARK_VERSION-bin-hadoop2.7.tgz\n",
        "!tar xf $SPARK_VERSION-bin-hadoop2.7.tgz\n",
        "!pip install -q findspark\n",
        "\n",
        "# Set Environment Variables\n",
        "import os\n",
        "os.environ[\"JAVA_HOME\"] = \"/usr/lib/jvm/java-11-openjdk-amd64\"\n",
        "os.environ[\"SPARK_HOME\"] = f\"/content/{spark_version}-bin-hadoop2.7\"\n",
        "\n",
        "# Start a SparkSession\n",
        "import findspark\n",
        "findspark.init()"
      ],
      "execution_count": 1,
      "outputs": [
        {
          "output_type": "stream",
          "name": "stdout",
          "text": [
            "Get:1 https://cloud.r-project.org/bin/linux/ubuntu bionic-cran40/ InRelease [3,626 B]\n",
            "Ign:2 https://developer.download.nvidia.com/compute/cuda/repos/ubuntu1804/x86_64  InRelease\n",
            "Get:3 http://security.ubuntu.com/ubuntu bionic-security InRelease [88.7 kB]\n",
            "Ign:4 https://developer.download.nvidia.com/compute/machine-learning/repos/ubuntu1804/x86_64  InRelease\n",
            "Get:5 https://developer.download.nvidia.com/compute/cuda/repos/ubuntu1804/x86_64  Release [696 B]\n",
            "Hit:6 https://developer.download.nvidia.com/compute/machine-learning/repos/ubuntu1804/x86_64  Release\n",
            "Get:7 http://ppa.launchpad.net/c2d4u.team/c2d4u4.0+/ubuntu bionic InRelease [15.9 kB]\n",
            "Get:8 https://developer.download.nvidia.com/compute/cuda/repos/ubuntu1804/x86_64  Release.gpg [836 B]\n",
            "Hit:9 http://archive.ubuntu.com/ubuntu bionic InRelease\n",
            "Get:11 http://archive.ubuntu.com/ubuntu bionic-updates InRelease [88.7 kB]\n",
            "Get:12 https://developer.download.nvidia.com/compute/cuda/repos/ubuntu1804/x86_64  Packages [829 kB]\n",
            "Hit:13 http://ppa.launchpad.net/cran/libgit2/ubuntu bionic InRelease\n",
            "Hit:14 http://ppa.launchpad.net/deadsnakes/ppa/ubuntu bionic InRelease\n",
            "Get:15 http://archive.ubuntu.com/ubuntu bionic-backports InRelease [74.6 kB]\n",
            "Get:16 http://security.ubuntu.com/ubuntu bionic-security/main amd64 Packages [2,430 kB]\n",
            "Hit:17 http://ppa.launchpad.net/graphics-drivers/ppa/ubuntu bionic InRelease\n",
            "Get:18 http://archive.ubuntu.com/ubuntu bionic-updates/main amd64 Packages [2,884 kB]\n",
            "Get:19 http://ppa.launchpad.net/c2d4u.team/c2d4u4.0+/ubuntu bionic/main Sources [1,813 kB]\n",
            "Get:20 http://security.ubuntu.com/ubuntu bionic-security/restricted amd64 Packages [666 kB]\n",
            "Get:21 http://security.ubuntu.com/ubuntu bionic-security/universe amd64 Packages [1,442 kB]\n",
            "Get:22 http://archive.ubuntu.com/ubuntu bionic-updates/universe amd64 Packages [2,225 kB]\n",
            "Get:23 http://archive.ubuntu.com/ubuntu bionic-updates/restricted amd64 Packages [717 kB]\n",
            "Get:24 http://ppa.launchpad.net/c2d4u.team/c2d4u4.0+/ubuntu bionic/main amd64 Packages [930 kB]\n",
            "Fetched 14.2 MB in 6s (2,347 kB/s)\n",
            "Reading package lists... Done\n"
          ]
        }
      ]
    },
    {
      "cell_type": "code",
      "metadata": {
        "id": "pWJxqry02GwO"
      },
      "source": [
        "# Import SparkSession\n",
        "from pyspark.sql import SparkSession\n",
        "spark = SparkSession.builder.appName(\"Vine-Analysis\").config(\"spark.driver.extraClassPath\",\"/content/postgresql-42.2.16.jar\").getOrCreate()"
      ],
      "execution_count": 3,
      "outputs": []
    },
    {
      "cell_type": "code",
      "metadata": {
        "colab": {
          "base_uri": "https://localhost:8080/"
        },
        "id": "4k0f02Bjpnrf",
        "outputId": "1220f4b0-de3b-4d57-fe3c-c7b424e2e910"
      },
      "source": [
        "# Extract the dataset you used in Deliverable 1\n",
        "from pyspark import SparkFiles\n",
        "url = \"https://s3.amazonaws.com/amazon-reviews-pds/tsv/amazon_reviews_us_Pet_Products_v1_00.tsv.gz\"\n",
        "spark.sparkContext.addFile(url)\n",
        "df = spark.read.option(\"encoding\", \"UTF-8\").csv(SparkFiles.get(\"\"), sep=\"\\t\", header=True, inferSchema=True)\n",
        "df.show()"
      ],
      "execution_count": 4,
      "outputs": [
        {
          "output_type": "stream",
          "name": "stdout",
          "text": [
            "+-----------+-----------+--------------+----------+--------------+--------------------+----------------+-----------+-------------+-----------+----+-----------------+--------------------+--------------------+-----------+\n",
            "|marketplace|customer_id|     review_id|product_id|product_parent|       product_title|product_category|star_rating|helpful_votes|total_votes|vine|verified_purchase|     review_headline|         review_body|review_date|\n",
            "+-----------+-----------+--------------+----------+--------------+--------------------+----------------+-----------+-------------+-----------+----+-----------------+--------------------+--------------------+-----------+\n",
            "|         US|   28794885| REAKC26P07MDN|B00Q0K9604|     510387886|(8-Pack) EZwhelp ...|    Pet Products|          5|            0|          0|   N|                Y|A great purchase ...|Best belly bands ...| 2015-08-31|\n",
            "|         US|   11488901|R3NU7OMZ4HQIEG|B00MBW5O9W|     912374672|Warren Eckstein's...|    Pet Products|          2|            0|          1|   N|                Y|My dogs love Hugs...|My dogs love Hugs...| 2015-08-31|\n",
            "|         US|   43214993|R14QJW3XF8QO1P|B0084OHUIO|     902215727|Tyson's True Chew...|    Pet Products|          5|            0|          0|   N|                Y|I have been purch...|I have been purch...| 2015-08-31|\n",
            "|         US|   12835065|R2HB7AX0394ZGY|B001GS71K2|     568880110|Soft Side Pet Cra...|    Pet Products|          5|            0|          0|   N|                Y|it is easy to ope...|It is extremely w...| 2015-08-31|\n",
            "|         US|   26334022| RGKMPDQGSAHR3|B004ABH1LG|     692846826|EliteField 3-Door...|    Pet Products|          5|            0|          0|   N|                Y|           Dog crate|Worked really wel...| 2015-08-31|\n",
            "|         US|   22283621|R1DJCVPQGCV66E|B00AX0LFM4|     590674141|Carlson 68-Inch W...|    Pet Products|          5|            0|          0|   N|                Y|          Five Stars|I love my gates! ...| 2015-08-31|\n",
            "|         US|   14469895|R3V52EAWLPBFQG|B00DQFZGZ0|     688538603|Dog Seat Cover Wi...|    Pet Products|          3|            0|          0|   N|                Y|Seat belt tugs on...|Didn't quite work...| 2015-08-31|\n",
            "|         US|   50896354|R3DKO8J1J28QBI|B00DIRF9US|     742358789|The Bird Catcher ...|    Pet Products|          2|            0|          0|   N|                Y|Great Pole, but S...|I had the origina...| 2015-08-31|\n",
            "|         US|   18440567| R764DBXGRNECG|B00JRCBFUG|     869798483|Cat Bed - Purrfec...|    Pet Products|          5|            1|          1|   N|                N|     My cat loves it|The pad is very s...| 2015-08-31|\n",
            "|         US|   50502362| RW1853GAT0Z9F|B000L3XYZ4|     501118658|PetSafe Drinkwell...|    Pet Products|          5|            0|          0|   N|                Y|          Five Stars|My cat drinks mor...| 2015-08-31|\n",
            "|         US|   33930128|R33GITXNUF1AD4|B00BOEXWFG|     454737777|Contech ZenDog Ca...|    Pet Products|          2|            0|          0|   N|                Y|Also had to pull ...|Much smaller than...| 2015-08-31|\n",
            "|         US|   43534290|R1H7AVM81TAYRV|B001HBBQKY|     420905252|Wellness Crunchy ...|    Pet Products|          1|            2|          2|   N|                Y|DO NOT PURCHASE -...|I used to love th...| 2015-08-31|\n",
            "|         US|   45555864|R2ZOYAQZNNZZWV|B007O1FHB0|     302588963|Rx Vitamins Essen...|    Pet Products|          5|            0|          0|   N|                Y|          Five Stars|Recommended by my...| 2015-08-31|\n",
            "|         US|   11147406|R2FN1H3CGW6J8H|B001P3NU30|     525778264|Virbac C.E.T. Enz...|    Pet Products|          1|            0|          0|   N|                Y|Received wrong pr...|Yes I  ordered fo...| 2015-08-31|\n",
            "|         US|    6495678| RJB41Q575XNG4|B00ZP6HS6S|     414117299|Kitty Shack - 2 i...|    Pet Products|          5|            0|          3|   N|                Y|          Five Stars|      It falls apart| 2015-08-31|\n",
            "|         US|    2019416|R28W8BM1587CPF|B00IP05CUA|     833937853|Wellness Kittles ...|    Pet Products|          5|            0|          0|   N|                Y|kitty is ravenous...|My cat really lov...| 2015-08-31|\n",
            "|         US|   40459386|R1II0M01NIG293|B001U8Y598|      85343577|OmniPet Anti-Ant ...|    Pet Products|          2|            0|          0|   N|                N|Maybe other speci...|This bowl is not ...| 2015-08-31|\n",
            "|         US|   23126800| RMB8N0DBRH34O|B011AY4JWO|     499241195|K9KONNECTION [New...|    Pet Products|          5|            1|          1|   N|                Y|This works, dog n...|I have a small do...| 2015-08-31|\n",
            "|         US|   30238476|R24WB6A6WVIPU6|B00DDSHE5A|     409532388|SUNSEED COMPANY 3...|    Pet Products|          5|            0|          0|   N|                Y|    Yummy for Bunny!|Bunny loves it! E...| 2015-08-31|\n",
            "|         US|   35113999| ROCJSH0P9YSRW|B00PJW5OR8|     259271919|CXB1983(TM)Cute P...|    Pet Products|          5|            0|          0|   N|                Y|excellent price, ...|Petfect,,quality ...| 2015-08-31|\n",
            "+-----------+-----------+--------------+----------+--------------+--------------------+----------------+-----------+-------------+-----------+----+-----------------+--------------------+--------------------+-----------+\n",
            "only showing top 20 rows\n",
            "\n"
          ]
        }
      ]
    },
    {
      "cell_type": "code",
      "metadata": {
        "id": "6438hNYBpnuU"
      },
      "source": [
        "# # Look at the dataframe\n",
        "# from pyspark.sql.functions import to_date\n",
        "# # Read in the Review dataset as a DataFrame\n",
        "# df.show(5)"
      ],
      "execution_count": null,
      "outputs": []
    },
    {
      "cell_type": "code",
      "metadata": {
        "colab": {
          "base_uri": "https://localhost:8080/"
        },
        "id": "5vsT1dHVpnxQ",
        "outputId": "4696c218-8384-4d70-d66a-360aa4553240"
      },
      "source": [
        "#  Recreate the vine_table dataframe\n",
        "vine_df = df.select([\"review_id\", \"star_rating\", \"helpful_votes\", \"vine\", \"verified_purchase\", \"total_votes\"])\n",
        "vine_df.show()"
      ],
      "execution_count": 6,
      "outputs": [
        {
          "output_type": "stream",
          "name": "stdout",
          "text": [
            "+--------------+-----------+-------------+----+-----------------+-----------+\n",
            "|     review_id|star_rating|helpful_votes|vine|verified_purchase|total_votes|\n",
            "+--------------+-----------+-------------+----+-----------------+-----------+\n",
            "| REAKC26P07MDN|          5|            0|   N|                Y|          0|\n",
            "|R3NU7OMZ4HQIEG|          2|            0|   N|                Y|          1|\n",
            "|R14QJW3XF8QO1P|          5|            0|   N|                Y|          0|\n",
            "|R2HB7AX0394ZGY|          5|            0|   N|                Y|          0|\n",
            "| RGKMPDQGSAHR3|          5|            0|   N|                Y|          0|\n",
            "|R1DJCVPQGCV66E|          5|            0|   N|                Y|          0|\n",
            "|R3V52EAWLPBFQG|          3|            0|   N|                Y|          0|\n",
            "|R3DKO8J1J28QBI|          2|            0|   N|                Y|          0|\n",
            "| R764DBXGRNECG|          5|            1|   N|                N|          1|\n",
            "| RW1853GAT0Z9F|          5|            0|   N|                Y|          0|\n",
            "|R33GITXNUF1AD4|          2|            0|   N|                Y|          0|\n",
            "|R1H7AVM81TAYRV|          1|            2|   N|                Y|          2|\n",
            "|R2ZOYAQZNNZZWV|          5|            0|   N|                Y|          0|\n",
            "|R2FN1H3CGW6J8H|          1|            0|   N|                Y|          0|\n",
            "| RJB41Q575XNG4|          5|            0|   N|                Y|          3|\n",
            "|R28W8BM1587CPF|          5|            0|   N|                Y|          0|\n",
            "|R1II0M01NIG293|          2|            0|   N|                N|          0|\n",
            "| RMB8N0DBRH34O|          5|            1|   N|                Y|          1|\n",
            "|R24WB6A6WVIPU6|          5|            0|   N|                Y|          0|\n",
            "| ROCJSH0P9YSRW|          5|            0|   N|                Y|          0|\n",
            "+--------------+-----------+-------------+----+-----------------+-----------+\n",
            "only showing top 20 rows\n",
            "\n"
          ]
        }
      ]
    },
    {
      "cell_type": "code",
      "metadata": {
        "id": "yzQc7F0wpnzL"
      },
      "source": [
        "# Filter the data for total_votes > 20\n",
        "vote_count = vine_df.filter(vine_df[\"total_votes\"] >= 20)\n",
        "\n"
      ],
      "execution_count": 7,
      "outputs": []
    },
    {
      "cell_type": "code",
      "metadata": {
        "colab": {
          "base_uri": "https://localhost:8080/"
        },
        "id": "RC8cvCORzEEG",
        "outputId": "e65f4373-1608-4342-9597-fc965e346b05"
      },
      "source": [
        "# Create a new DataFrame to retrieve all rows where # of helpful_votes divided by total_votes is equal to or greater than 50%.\n",
        "new_vote_table = vote_count.filter(vote_count[\"helpful_votes\"]/vote_count[\"total_votes\"]>=0.5)\n",
        "new_vote_table.show()"
      ],
      "execution_count": 8,
      "outputs": [
        {
          "output_type": "stream",
          "name": "stdout",
          "text": [
            "+--------------+-----------+-------------+----+-----------------+-----------+\n",
            "|     review_id|star_rating|helpful_votes|vine|verified_purchase|total_votes|\n",
            "+--------------+-----------+-------------+----+-----------------+-----------+\n",
            "|R21KC552Y6HL8X|          1|           27|   N|                Y|         31|\n",
            "| RX9WC9FTIR1XR|          5|           25|   N|                Y|         25|\n",
            "| RGDCOU1KBHMNG|          3|           29|   N|                Y|         31|\n",
            "| RVTYWID2TPMMY|          2|           35|   N|                Y|         42|\n",
            "|R2CMPZ5VESGRLY|          4|           27|   N|                Y|         28|\n",
            "|R3VQPJZ54B55BA|          5|           62|   N|                N|         64|\n",
            "|R24QM6D7FEDZ5M|          2|           36|   N|                Y|         43|\n",
            "|R3A1VQ3SQDXEJ3|          5|           20|   N|                Y|         20|\n",
            "|  R39GSNW76GYF|          1|           20|   N|                Y|         23|\n",
            "| RPJLR6MFDPXXE|          5|           35|   N|                Y|         36|\n",
            "|R34X0ZGVB3YGYO|          5|           47|   N|                Y|         47|\n",
            "|R2C9O1BOV14Q0Z|          1|           62|   N|                Y|         79|\n",
            "| RM6ZH5J3XDNHK|          5|           79|   N|                Y|         87|\n",
            "|R2E363K75EMW4K|          5|           66|   N|                Y|         69|\n",
            "|R2VJII8VKSJHDF|          1|           24|   N|                N|         29|\n",
            "|R2U35Y2P27M13E|          1|           43|   N|                Y|         45|\n",
            "| RLMZOQL11VHBX|          5|           23|   N|                Y|         24|\n",
            "|R3C6CQQRRA8SYP|          5|           52|   N|                Y|         58|\n",
            "|R3T7YOX0AEDZL3|          1|           45|   N|                N|         47|\n",
            "|R176V3AYS3R4HG|          5|           26|   N|                N|         27|\n",
            "+--------------+-----------+-------------+----+-----------------+-----------+\n",
            "only showing top 20 rows\n",
            "\n"
          ]
        }
      ]
    },
    {
      "cell_type": "code",
      "metadata": {
        "id": "UnYgycJ9zEI-"
      },
      "source": [
        "# Filter the table created in Step 2, and create a new table that retrieves all the rows where a review was written as part of the Vine program (paid), vine == 'Y'\n",
        "vine_votes = new_vote_table.filter(new_vote_table[\"vine\"] == \"Y\").count()"
      ],
      "execution_count": 9,
      "outputs": []
    },
    {
      "cell_type": "code",
      "metadata": {
        "id": "lIW1KgO0zEL3"
      },
      "source": [
        "# Create a new table that retrieves all the rows where a review was written as part of the Vine program (paid), vine == 'Y'\n",
        "non_vine_votes = new_vote_table.filter(new_vote_table[\"vine\"] == \"N\").count()"
      ],
      "execution_count": 10,
      "outputs": []
    },
    {
      "cell_type": "code",
      "metadata": {
        "colab": {
          "base_uri": "https://localhost:8080/"
        },
        "id": "_NTLaTOozM7L",
        "outputId": "b129daf3-9ed2-4a90-d0f2-121bfb82598a"
      },
      "source": [
        "# Filter table for five star reviews\n",
        "five_star = new_vote_table.filter(new_vote_table[\"star_rating\"]== 5)\n",
        "five_star.show()"
      ],
      "execution_count": 11,
      "outputs": [
        {
          "output_type": "stream",
          "name": "stdout",
          "text": [
            "+--------------+-----------+-------------+----+-----------------+-----------+\n",
            "|     review_id|star_rating|helpful_votes|vine|verified_purchase|total_votes|\n",
            "+--------------+-----------+-------------+----+-----------------+-----------+\n",
            "| RX9WC9FTIR1XR|          5|           25|   N|                Y|         25|\n",
            "|R3VQPJZ54B55BA|          5|           62|   N|                N|         64|\n",
            "|R3A1VQ3SQDXEJ3|          5|           20|   N|                Y|         20|\n",
            "| RPJLR6MFDPXXE|          5|           35|   N|                Y|         36|\n",
            "|R34X0ZGVB3YGYO|          5|           47|   N|                Y|         47|\n",
            "| RM6ZH5J3XDNHK|          5|           79|   N|                Y|         87|\n",
            "|R2E363K75EMW4K|          5|           66|   N|                Y|         69|\n",
            "| RLMZOQL11VHBX|          5|           23|   N|                Y|         24|\n",
            "|R3C6CQQRRA8SYP|          5|           52|   N|                Y|         58|\n",
            "|R176V3AYS3R4HG|          5|           26|   N|                N|         27|\n",
            "|R1E5UU8JBUSHU2|          5|           29|   N|                Y|         29|\n",
            "|R321IM5UIWSS1D|          5|           21|   N|                Y|         22|\n",
            "|R13RDDA84RN5UV|          5|           72|   N|                Y|         74|\n",
            "|R32GLCISSDQH58|          5|           21|   N|                Y|         21|\n",
            "| RG3LJ7DIQBJGR|          5|           25|   N|                Y|         27|\n",
            "|R2TEWA8TEJEQ8X|          5|           22|   N|                Y|         23|\n",
            "|R33PC7N3PUVAQH|          5|           66|   N|                Y|         66|\n",
            "| RBN16XJ8RH467|          5|           47|   N|                Y|         49|\n",
            "|R2PIZSZBU9M14L|          5|           17|   N|                N|         21|\n",
            "|R3SGZ8UX8DLE7W|          5|           27|   N|                Y|         27|\n",
            "+--------------+-----------+-------------+----+-----------------+-----------+\n",
            "only showing top 20 rows\n",
            "\n"
          ]
        }
      ]
    },
    {
      "cell_type": "code",
      "metadata": {
        "colab": {
          "base_uri": "https://localhost:8080/"
        },
        "id": "iggeecT8zNAX",
        "outputId": "3e37ef8c-e7cd-4715-835d-7484070f70b4"
      },
      "source": [
        "# Determine the total number of reviews\n",
        "new_vote_table.count()"
      ],
      "execution_count": 12,
      "outputs": [
        {
          "output_type": "execute_result",
          "data": {
            "text/plain": [
              "38010"
            ]
          },
          "metadata": {},
          "execution_count": 12
        }
      ]
    },
    {
      "cell_type": "code",
      "metadata": {
        "colab": {
          "base_uri": "https://localhost:8080/"
        },
        "id": "NOHVQc-tzR80",
        "outputId": "3d3e3494-dab5-4f20-9f6c-433e0c64c1cf"
      },
      "source": [
        "# Determine the total number of 5-star reviews\n",
        "five_star.count()"
      ],
      "execution_count": 13,
      "outputs": [
        {
          "output_type": "execute_result",
          "data": {
            "text/plain": [
              "20677"
            ]
          },
          "metadata": {},
          "execution_count": 13
        }
      ]
    },
    {
      "cell_type": "code",
      "metadata": {
        "colab": {
          "base_uri": "https://localhost:8080/"
        },
        "id": "3JZQmZYxzR_u",
        "outputId": "294b84b9-8e55-428a-c86b-a0806796219f"
      },
      "source": [
        "# Percentage of five star reviews\n",
        "five_star.count() / new_vote_table.count()"
      ],
      "execution_count": 14,
      "outputs": [
        {
          "output_type": "execute_result",
          "data": {
            "text/plain": [
              "0.5439884240989213"
            ]
          },
          "metadata": {},
          "execution_count": 14
        }
      ]
    },
    {
      "cell_type": "code",
      "metadata": {
        "colab": {
          "base_uri": "https://localhost:8080/"
        },
        "id": "-QCkopafzSCe",
        "outputId": "e25efed8-026e-4205-eabd-f70358e87e5f"
      },
      "source": [
        "# Determine number of 5-star reviews for the Vine members\n",
        "five_star.filter(five_star[\"verified_purchase\"] == \"Y\").count()"
      ],
      "execution_count": 15,
      "outputs": [
        {
          "output_type": "execute_result",
          "data": {
            "text/plain": [
              "14950"
            ]
          },
          "metadata": {},
          "execution_count": 15
        }
      ]
    },
    {
      "cell_type": "code",
      "metadata": {
        "colab": {
          "base_uri": "https://localhost:8080/"
        },
        "id": "kmF77jzBzSFW",
        "outputId": "341c83ee-f39c-4f24-ae64-438a0833ec8d"
      },
      "source": [
        "# Determine number of 5-star reviews for the non-Vine members\n",
        "five_star.filter(five_star[\"verified_purchase\"] == \"N\").count()"
      ],
      "execution_count": 16,
      "outputs": [
        {
          "output_type": "execute_result",
          "data": {
            "text/plain": [
              "5727"
            ]
          },
          "metadata": {},
          "execution_count": 16
        }
      ]
    },
    {
      "cell_type": "code",
      "metadata": {
        "colab": {
          "base_uri": "https://localhost:8080/"
        },
        "id": "0EmttrfIzSIG",
        "outputId": "4308b8d0-cb63-4614-b155-6f33d625e072"
      },
      "source": [
        "# Determine the percentage of 5-star reviews for the paid reviews.\n",
        "five_star.filter(five_star[\"verified_purchase\"] == \"Y\").count()/new_vote_table.filter(new_vote_table[\"verified_purchase\"]== \"Y\").count()"
      ],
      "execution_count": 17,
      "outputs": [
        {
          "output_type": "execute_result",
          "data": {
            "text/plain": [
              "0.5740726518700561"
            ]
          },
          "metadata": {},
          "execution_count": 17
        }
      ]
    },
    {
      "cell_type": "code",
      "metadata": {
        "colab": {
          "base_uri": "https://localhost:8080/"
        },
        "id": "i1DX9ywpzSKx",
        "outputId": "abc7f914-8377-4a7d-bec2-74f1fe542759"
      },
      "source": [
        "# Determine the percentage of 5-star reviews for un-paid reviews.\n",
        "five_star.filter(five_star[\"verified_purchase\"] == \"N\").count()/new_vote_table.filter(new_vote_table[\"verified_purchase\"]== \"N\").count()"
      ],
      "execution_count": 18,
      "outputs": [
        {
          "output_type": "execute_result",
          "data": {
            "text/plain": [
              "0.47852606951871657"
            ]
          },
          "metadata": {},
          "execution_count": 18
        }
      ]
    },
    {
      "cell_type": "code",
      "metadata": {
        "id": "89qC74r-zSNV"
      },
      "source": [
        ""
      ],
      "execution_count": null,
      "outputs": []
    },
    {
      "cell_type": "code",
      "metadata": {
        "id": "De4E0JdFzSPk"
      },
      "source": [
        ""
      ],
      "execution_count": null,
      "outputs": []
    },
    {
      "cell_type": "code",
      "metadata": {
        "id": "3JsQ8FMFzNFk"
      },
      "source": [
        ""
      ],
      "execution_count": null,
      "outputs": []
    }
  ]
}